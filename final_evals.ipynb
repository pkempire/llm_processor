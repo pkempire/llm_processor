{
 "cells": [
  {
   "cell_type": "markdown",
   "metadata": {},
   "source": [
    "# LLM Processor Evaluation Suite\n",
    "Comprehensive performance tests and demo scenarios for the multi-processing LLM library"
   ]
  },
  {
   "cell_type": "markdown",
   "metadata": {},
   "source": [
    "## 1. Library Setup & Configuration"
   ]
  },
  {
   "cell_type": "code",
   "execution_count": 3,
   "metadata": {},
   "outputs": [],
   "source": [
    "import sys\n",
    "import os\n",
    "import time\n",
    "import matplotlib.pyplot as plt\n",
    "import pandas as pd\n",
    "from tqdm.auto import tqdm\n",
    "\n",
    "from multi_processing.llm_client import DeepSeekClient\n",
    "from multi_processing.processor import LLMProcessor\n",
    "from multi_processing.processor_config import ProcessorConfig"
   ]
  },
  {
   "cell_type": "code",
   "execution_count": 5,
   "metadata": {},
   "outputs": [],
   "source": [
    "# Initialize client with API key from environment\n",
    "client = DeepSeekClient(api_key=\"sk-cd405682db094b6781f9f815840163d8\")\n",
    "\n",
    "# Configure processor with high-performance settings\n",
    "config = ProcessorConfig(\n",
    "    max_workers=16,\n",
    "    enable_dynamic_token_batching=True,\n",
    "    max_tokens_per_batch=4096,\n",
    "    cache_enabled=True,\n",
    "    dynamic_rate_limit=True,\n",
    "    requests_per_minute=300,\n",
    "    metrics_output_path='eval_metrics.json'\n",
    ")\n",
    "\n",
    "processor = LLMProcessor(client, config)"
   ]
  },
  {
   "cell_type": "markdown",
   "metadata": {},
   "source": [
    "## 2. Benchmark Scenarios"
   ]
  },
  {
   "cell_type": "code",
   "execution_count": 6,
   "metadata": {},
   "outputs": [],
   "source": [
    "def generate_test_prompts(num_prompts=1000):\n",
    "    \"\"\"Generate realistic test prompts with varying complexity\"\"\"\n",
    "    base_prompt = \"Analyze this text for sentiment and key themes: {text}\"\n",
    "    texts = [\n",
    "        f\"Customer review: {'Excellent' * i} product!\" if i % 2 == 0 \n",
    "        else f\"Technical paper: {'AI safety ' * i} considerations\"\n",
    "        for i in range(1, num_prompts+1)\n",
    "    ]\n",
    "    return [base_prompt.format(text=t) for t in texts]"
   ]
  },
  {
   "cell_type": "code",
   "execution_count": 7,
   "metadata": {},
   "outputs": [],
   "source": [
    "def process_wrapper(prompt):\n",
    "    \"\"\"Processing function with error simulation\"\"\"\n",
    "    if random.random() < 0.02:  # 2% error rate simulation\n",
    "        raise Exception(\"Simulated API error\")\n",
    "    return processor._process_with_retry(\n",
    "        prompt,\n",
    "        lambda p: client.call_api(p, system_prompt=\"You are a helpful AI assistant\")\n",
    "    )"
   ]
  },
  {
   "cell_type": "markdown",
   "metadata": {},
   "source": [
    "## 3. Performance Tests"
   ]
  },
  {
   "cell_type": "code",
   "execution_count": 8,
   "metadata": {},
   "outputs": [],
   "source": [
    "def run_benchmark(prompts):\n",
    "    \"\"\"Execute benchmark with real-time metrics visualization\"\"\"\n",
    "    results = []\n",
    "    throughput = []\n",
    "    \n",
    "    with tqdm(total=len(prompts), desc=\"Processing\") as pbar:\n",
    "        start_time = time.time()\n",
    "        \n",
    "        for result in processor.process_batch(prompts, process_wrapper):\n",
    "            results.append(result)\n",
    "            \n",
    "            # Update metrics every 50 items\n",
    "            if len(results) % 50 == 0:\n",
    "                elapsed = time.time() - start_time\n",
    "                throughput.append({\n",
    "                    'time': elapsed,\n",
    "                    'items': len(results),\n",
    "                    'tokens': processor.metrics['token_usage']['total_tokens']\n",
    "                })\n",
    "                \n",
    "                # Live plotting\n",
    "                plt.figure(figsize=(12, 4))\n",
    "                plt.subplot(1, 2, 1)\n",
    "                plt.plot([t['time'] for t in throughput], [t['items'] for t in throughput])\n",
    "                plt.title('Items Processed vs Time')\n",
    "                plt.xlabel('Seconds')\n",
    "                plt.ylabel('Items')\n",
    "                \n",
    "                plt.subplot(1, 2, 2)\n",
    "                plt.bar(['Success', 'Errors'], \n",
    "                        [processor.metrics['api_calls']['successful'],\n",
    "                         processor.metrics['api_calls']['failed']])\n",
    "                plt.title('Request Success Rate')\n",
    "                plt.show()\n",
    "            \n",
    "            pbar.update(1)\n",
    "    \n",
    "    return results, throughput"
   ]
  },
  {
   "cell_type": "markdown",
   "metadata": {},
   "source": [
    "## 4. Comparative Analysis"
   ]
  },
  {
   "cell_type": "code",
   "execution_count": 9,
   "metadata": {},
   "outputs": [],
   "source": [
    "def compare_concurrency_levels():\n",
    "    \"\"\"Compare performance across different concurrency settings\"\"\"\n",
    "    workers_range = [4, 8, 16, 32]\n",
    "    benchmarks = {}\n",
    "    \n",
    "    for workers in workers_range:\n",
    "        config.max_workers = workers\n",
    "        processor = LLMProcessor(client, config)\n",
    "        \n",
    "        start_time = time.time()\n",
    "        processor.process_batch(generate_test_prompts(500), process_wrapper)\n",
    "        duration = time.time() - start_time\n",
    "        \n",
    "        benchmarks[workers] = {\n",
    "            'duration': duration,\n",
    "            'throughput': 500 / duration,\n",
    "            'token_throughput': processor.metrics['token_usage']['total_tokens'] / duration\n",
    "        }\n",
    "    \n",
    "    return benchmarks"
   ]
  },
  {
   "cell_type": "markdown",
   "metadata": {},
   "source": [
    "## 5. Visualization & Reporting"
   ]
  },
  {
   "cell_type": "code",
   "execution_count": 10,
   "metadata": {},
   "outputs": [],
   "source": [
    "def generate_report(benchmarks):\n",
    "    \"\"\"Generate final report with interactive visualizations\"\"\"\n",
    "    df = pd.DataFrame.from_dict(benchmarks, orient='index')\n",
    "    \n",
    "    fig, ax = plt.subplots(2, 1, figsize=(10, 8))\n",
    "    \n",
    "    df['throughput'].plot.bar(ax=ax[0], title='Items per Second')\n",
    "    df['token_throughput'].plot.bar(ax=ax[1], title='Tokens per Second')\n",
    "    \n",
    "    plt.tight_layout()\n",
    "    plt.show()\n",
    "    \n",
    "    return df.style.background_gradient(cmap='viridis')"
   ]
  },
  {
   "cell_type": "markdown",
   "metadata": {},
   "source": [
    "## Main Execution"
   ]
  },
  {
   "cell_type": "code",
   "execution_count": 11,
   "metadata": {},
   "outputs": [
    {
     "data": {
      "application/vnd.jupyter.widget-view+json": {
       "model_id": "6d0e939cf97e4818b769be208e611205",
       "version_major": 2,
       "version_minor": 0
      },
      "text/plain": [
       "Processing:   0%|          | 0/1000 [00:00<?, ?it/s]"
      ]
     },
     "metadata": {},
     "output_type": "display_data"
    },
    {
     "name": "stderr",
     "output_type": "stream",
     "text": [
      "Processing items: 100%|██████████| 235/235 [00:03<00:00, 75.96it/s]\n",
      "Processing items: 100%|██████████| 52/52 [00:02<00:00, 19.55it/s]\n",
      "Processing items: 100%|██████████| 52/52 [00:01<00:00, 36.40it/s]\n",
      "Processing items: 100%|██████████| 52/52 [00:00<00:00, 63.59it/s]\n",
      "Processing items: 100%|██████████| 52/52 [00:00<00:00, 125.38it/s]\n"
     ]
    },
    {
     "data": {
      "image/png": "[encoded data removed]",
      "text/plain": [
       "<Figure size 1000x800 with 2 Axes>"
      ]
     },
     "metadata": {},
     "output_type": "display_data"
    },
    {
     "data": {
      "text/html": [
       "<style type=\"text/css\">\n",
       "#T_da9ac_row0_col0, #T_da9ac_row3_col1 {\n",
       "  background-color: #fde725;\n",
       "  color: #000000;\n",
       "}\n",
       "#T_da9ac_row0_col1, #T_da9ac_row0_col2, #T_da9ac_row1_col2, #T_da9ac_row2_col2, #T_da9ac_row3_col0, #T_da9ac_row3_col2 {\n",
       "  background-color: #440154;\n",
       "  color: #f1f1f1;\n",
       "}\n",
       "#T_da9ac_row1_col0 {\n",
       "  background-color: #25838e;\n",
       "  color: #f1f1f1;\n",
       "}\n",
       "#T_da9ac_row1_col1 {\n",
       "  background-color: #3a548c;\n",
       "  color: #f1f1f1;\n",
       "}\n",
       "#T_da9ac_row2_col0 {\n",
       "  background-color: #433d84;\n",
       "  color: #f1f1f1;\n",
       "}\n",
       "#T_da9ac_row2_col1 {\n",
       "  background-color: #1fa188;\n",
       "  color: #f1f1f1;\n",
       "}\n",
       "</style>\n",
       "<table id=\"T_da9ac\">\n",
       "  <thead>\n",
       "    <tr>\n",
       "      <th class=\"blank level0\" >&nbsp;</th>\n",
       "      <th id=\"T_da9ac_level0_col0\" class=\"col_heading level0 col0\" >duration</th>\n",
       "      <th id=\"T_da9ac_level0_col1\" class=\"col_heading level0 col1\" >throughput</th>\n",
       "      <th id=\"T_da9ac_level0_col2\" class=\"col_heading level0 col2\" >token_throughput</th>\n",
       "    </tr>\n",
       "  </thead>\n",
       "  <tbody>\n",
       "    <tr>\n",
       "      <th id=\"T_da9ac_level0_row0\" class=\"row_heading level0 row0\" >4</th>\n",
       "      <td id=\"T_da9ac_row0_col0\" class=\"data row0 col0\" >3.140415</td>\n",
       "      <td id=\"T_da9ac_row0_col1\" class=\"data row0 col1\" >159.214628</td>\n",
       "      <td id=\"T_da9ac_row0_col2\" class=\"data row0 col2\" >0.000000</td>\n",
       "    </tr>\n",
       "    <tr>\n",
       "      <th id=\"T_da9ac_level0_row1\" class=\"row_heading level0 row1\" >8</th>\n",
       "      <td id=\"T_da9ac_row1_col0\" class=\"data row1 col0\" >1.902261</td>\n",
       "      <td id=\"T_da9ac_row1_col1\" class=\"data row1 col1\" >262.845106</td>\n",
       "      <td id=\"T_da9ac_row1_col2\" class=\"data row1 col2\" >0.000000</td>\n",
       "    </tr>\n",
       "    <tr>\n",
       "      <th id=\"T_da9ac_level0_row2\" class=\"row_heading level0 row2\" >16</th>\n",
       "      <td id=\"T_da9ac_row2_col0\" class=\"data row2 col0\" >1.297961</td>\n",
       "      <td id=\"T_da9ac_row2_col1\" class=\"data row2 col1\" >385.219517</td>\n",
       "      <td id=\"T_da9ac_row2_col2\" class=\"data row2 col2\" >0.000000</td>\n",
       "    </tr>\n",
       "    <tr>\n",
       "      <th id=\"T_da9ac_level0_row3\" class=\"row_heading level0 row3\" >32</th>\n",
       "      <td id=\"T_da9ac_row3_col0\" class=\"data row3 col0\" >0.895719</td>\n",
       "      <td id=\"T_da9ac_row3_col1\" class=\"data row3 col1\" >558.210598</td>\n",
       "      <td id=\"T_da9ac_row3_col2\" class=\"data row3 col2\" >0.000000</td>\n",
       "    </tr>\n",
       "  </tbody>\n",
       "</table>\n"
      ],
      "text/plain": [
       "<pandas.io.formats.style.Styler at 0x30acf6590>"
      ]
     },
     "metadata": {},
     "output_type": "display_data"
    }
   ],
   "source": [
    "# Execute full evaluation pipeline\n",
    "if __name__ == \"__main__\":\n",
    "    test_prompts = generate_test_prompts(1000)\n",
    "    results, throughput = run_benchmark(test_prompts)\n",
    "    benchmarks = compare_concurrency_levels()\n",
    "    report = generate_report(benchmarks)\n",
    "    display(report)"
   ]
  },
  {
   "cell_type": "code",
   "execution_count": null,
   "metadata": {},
   "outputs": [],
   "source": []
  }
 ],
 "metadata": {
  "kernelspec": {
   "display_name": "Python 3 (ipykernel)",
   "language": "python",
   "name": "python3"
  },
  "language_info": {
   "codemirror_mode": {
    "name": "ipython",
    "version": 3
   },
   "file_extension": ".py",
   "mimetype": "text/x-python",
   "name": "python",
   "nbconvert_exporter": "python",
   "pygments_lexer": "ipython3",
   "version": "3.11.10"
  }
 },
 "nbformat": 4,
 "nbformat_minor": 4
}
